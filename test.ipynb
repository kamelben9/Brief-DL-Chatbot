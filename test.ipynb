{
 "cells": [
  {
   "cell_type": "code",
   "execution_count": 1,
   "metadata": {},
   "outputs": [
    {
     "name": "stderr",
     "output_type": "stream",
     "text": [
      "2023-03-22 14:48:09.552 INFO    numexpr.utils: NumExpr defaulting to 8 threads.\n",
      "2023-03-22 14:48:12.090990: I tensorflow/core/platform/cpu_feature_guard.cc:193] This TensorFlow binary is optimized with oneAPI Deep Neural Network Library (oneDNN) to use the following CPU instructions in performance-critical operations:  AVX2 FMA\n",
      "To enable them in other operations, rebuild TensorFlow with the appropriate compiler flags.\n",
      "2023-03-22 14:48:12.287043: W tensorflow/compiler/xla/stream_executor/platform/default/dso_loader.cc:64] Could not load dynamic library 'libcudart.so.11.0'; dlerror: libcudart.so.11.0: cannot open shared object file: No such file or directory\n",
      "2023-03-22 14:48:12.287063: I tensorflow/compiler/xla/stream_executor/cuda/cudart_stub.cc:29] Ignore above cudart dlerror if you do not have a GPU set up on your machine.\n",
      "2023-03-22 14:48:13.356508: W tensorflow/compiler/xla/stream_executor/platform/default/dso_loader.cc:64] Could not load dynamic library 'libnvinfer.so.7'; dlerror: libnvinfer.so.7: cannot open shared object file: No such file or directory\n",
      "2023-03-22 14:48:13.356644: W tensorflow/compiler/xla/stream_executor/platform/default/dso_loader.cc:64] Could not load dynamic library 'libnvinfer_plugin.so.7'; dlerror: libnvinfer_plugin.so.7: cannot open shared object file: No such file or directory\n",
      "2023-03-22 14:48:13.356663: W tensorflow/compiler/tf2tensorrt/utils/py_utils.cc:38] TF-TRT Warning: Cannot dlopen some TensorRT libraries. If you would like to use Nvidia GPU with TensorRT, please make sure the missing libraries mentioned above are installed properly.\n"
     ]
    }
   ],
   "source": [
    "import streamlit as st\n",
    "from streamlit_chat import message as st_message\n",
    "from transformers import AutoTokenizer, TFAutoModelForCausalLM\n",
    "import tensorflow as tf"
   ]
  },
  {
   "cell_type": "code",
   "execution_count": 7,
   "metadata": {},
   "outputs": [],
   "source": [
    "\n",
    "def get_models():\n",
    "    # it may be necessary for other frameworks to cache the model\n",
    "    # seems pytorch keeps an internal state of the conversation\n",
    " \n",
    " \n",
    "\n",
    "    tokenizer = AutoTokenizer.from_pretrained(\"microsoft/DialoGPT-medium\")\n",
    "\n",
    "    model = TFAutoModelForCausalLM.from_pretrained(\"microsoft/DialoGPT-medium\")\n",
    "    return tokenizer, model\n"
   ]
  },
  {
   "cell_type": "code",
   "execution_count": 10,
   "metadata": {},
   "outputs": [
    {
     "ename": "AttributeError",
     "evalue": "'function' object has no attribute 'tokenizer'",
     "output_type": "error",
     "traceback": [
      "\u001b[0;31m---------------------------------------------------------------------------\u001b[0m",
      "\u001b[0;31mAttributeError\u001b[0m                            Traceback (most recent call last)",
      "Cell \u001b[0;32mIn [10], line 1\u001b[0m\n\u001b[0;32m----> 1\u001b[0m \u001b[39mprint\u001b[39m(get_models\u001b[39m.\u001b[39;49mtokenizer)\n",
      "\u001b[0;31mAttributeError\u001b[0m: 'function' object has no attribute 'tokenizer'"
     ]
    }
   ],
   "source": [
    "print(get_models.tokenizer)"
   ]
  },
  {
   "cell_type": "code",
   "execution_count": 13,
   "metadata": {},
   "outputs": [
    {
     "ename": "NameError",
     "evalue": "name 'user_message' is not defined",
     "output_type": "error",
     "traceback": [
      "\u001b[0;31m---------------------------------------------------------------------------\u001b[0m",
      "\u001b[0;31mNameError\u001b[0m                                 Traceback (most recent call last)",
      "Cell \u001b[0;32mIn [13], line 10\u001b[0m\n\u001b[1;32m      5\u001b[0m     result \u001b[39m=\u001b[39m model\u001b[39m.\u001b[39mgenerate(\u001b[39m*\u001b[39m\u001b[39m*\u001b[39minputs)\n\u001b[1;32m      6\u001b[0m     message_bot \u001b[39m=\u001b[39m tokenizer\u001b[39m.\u001b[39mdecode(\n\u001b[1;32m      7\u001b[0m         result[\u001b[39m0\u001b[39m], skip_special_tokens\u001b[39m=\u001b[39m\u001b[39mTrue\u001b[39;00m\n\u001b[1;32m      8\u001b[0m     )  \u001b[39m# .replace(\"<s>\", \"\").replace(\"</s>\", \"\")\u001b[39;00m\n\u001b[0;32m---> 10\u001b[0m \u001b[39mprint\u001b[39m(user_message)\n",
      "\u001b[0;31mNameError\u001b[0m: name 'user_message' is not defined"
     ]
    }
   ],
   "source": [
    "def generate_answer():\n",
    "    tokenizer, model = get_models()\n",
    "    user_message = st.session_state.input_text\n",
    "    inputs = tokenizer(st.session_state.input_text, return_tensors=\"tf\")\n",
    "    result = model.generate(**inputs)\n",
    "    message_bot = tokenizer.decode(\n",
    "        result[0], skip_special_tokens=True\n",
    "    )  # .replace(\"<s>\", \"\").replace(\"</s>\", \"\")\n",
    "    \n",
    "print(user_message)"
   ]
  }
 ],
 "metadata": {
  "kernelspec": {
   "display_name": "Python 3.9.15 ('data_anayse_env')",
   "language": "python",
   "name": "python3"
  },
  "language_info": {
   "codemirror_mode": {
    "name": "ipython",
    "version": 3
   },
   "file_extension": ".py",
   "mimetype": "text/x-python",
   "name": "python",
   "nbconvert_exporter": "python",
   "pygments_lexer": "ipython3",
   "version": "3.9.15"
  },
  "orig_nbformat": 4,
  "vscode": {
   "interpreter": {
    "hash": "dc0462446127c1e0e542cdab515213248fc91a25e9aea2306dfdc819a792765d"
   }
  }
 },
 "nbformat": 4,
 "nbformat_minor": 2
}
